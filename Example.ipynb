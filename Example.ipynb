{
 "cells": [
  {
   "cell_type": "code",
   "execution_count": 1,
   "metadata": {
    "scrolled": true
   },
   "outputs": [
    {
     "name": "stdout",
     "output_type": "stream",
     "text": [
      "The average is 239.83333333333334, and the unvertainty is 0.23333333333333345\n",
      "The average is 169.6333333333333, and the unvertainty is 0.24449494427856402\n",
      "The average is 7.48, and the unvertainty is 0.013662601021279468\n"
     ]
    }
   ],
   "source": [
    "from DataProcess import *\n",
    "L=[239.4,239.6,240.4,240.2,239.2,240.2]\n",
    "B=[169.6,169.2,169.2,170.6,169.8,169.4]\n",
    "H=[7.50,7.48,7.46,7.46,7.48,7.50]\n",
    "ΔL = 0.2\n",
    "ΔB = 0.2\n",
    "ΔH =0.02\n",
    "aUP(L,ΔL)#aUP=averageUncertaintyPrint,打印均值不确定度结果\n",
    "aUP(B,ΔB)\n",
    "aUP(H,ΔH)"
   ]
  },
  {
   "cell_type": "code",
   "execution_count": 2,
   "metadata": {},
   "outputs": [
    {
     "name": "stdout",
     "output_type": "stream",
     "text": [
      "k = 0.010834285714285713, b = -0.00048761904761903535, Uk = 4.9679243260043677e-05, Ub = 0.0002391149592120189, r = 0.9999579513576762\n"
     ]
    }
   ],
   "source": [
    "n=[2,3,4,5,6,7]\n",
    "y=[0.0210,0.0320,0.0430,0.0539,0.0646,0.0751]\n",
    "\n",
    "lRP(n,y)#lRP=linearRegressionPrint,打印线性回归结果"
   ]
  },
  {
   "cell_type": "code",
   "execution_count": 3,
   "metadata": {
    "scrolled": true
   },
   "outputs": [
    {
     "data": {
      "text/html": [
       "\n",
       "<div id=\"altair-viz-dcbdc41027f74e4abe2ead7ff9a06e44\"></div>\n",
       "<script type=\"text/javascript\">\n",
       "  (function(spec, embedOpt){\n",
       "    const outputDiv = document.getElementById(\"altair-viz-dcbdc41027f74e4abe2ead7ff9a06e44\");\n",
       "    const paths = {\n",
       "      \"vega\": \"https://cdn.jsdelivr.net/npm//vega@5?noext\",\n",
       "      \"vega-lib\": \"https://cdn.jsdelivr.net/npm//vega-lib?noext\",\n",
       "      \"vega-lite\": \"https://cdn.jsdelivr.net/npm//vega-lite@4.0.2?noext\",\n",
       "      \"vega-embed\": \"https://cdn.jsdelivr.net/npm//vega-embed@6?noext\",\n",
       "    };\n",
       "\n",
       "    function loadScript(lib) {\n",
       "      return new Promise(function(resolve, reject) {\n",
       "        var s = document.createElement('script');\n",
       "        s.src = paths[lib];\n",
       "        s.async = true;\n",
       "        s.onload = () => resolve(paths[lib]);\n",
       "        s.onerror = () => reject(`Error loading script: ${paths[lib]}`);\n",
       "        document.getElementsByTagName(\"head\")[0].appendChild(s);\n",
       "      });\n",
       "    }\n",
       "\n",
       "    function showError(err) {\n",
       "      outputDiv.innerHTML = `<div class=\"error\" style=\"color:red;\">${err}</div>`;\n",
       "      throw err;\n",
       "    }\n",
       "\n",
       "    function displayChart(vegaEmbed) {\n",
       "      vegaEmbed(outputDiv, spec, embedOpt)\n",
       "        .catch(err => showError(`Javascript Error: ${err.message}<br>This usually means there's a typo in your chart specification. See the javascript console for the full traceback.`));\n",
       "    }\n",
       "\n",
       "    if(typeof define === \"function\" && define.amd) {\n",
       "      requirejs.config({paths});\n",
       "      require([\"vega-embed\"], displayChart, err => showError(`Error loading script: ${err.message}`));\n",
       "    } else if (typeof vegaEmbed === \"function\") {\n",
       "      displayChart(vegaEmbed);\n",
       "    } else {\n",
       "      loadScript(\"vega\")\n",
       "        .then(() => loadScript(\"vega-lite\"))\n",
       "        .then(() => loadScript(\"vega-embed\"))\n",
       "        .catch(showError)\n",
       "        .then(() => displayChart(vegaEmbed));\n",
       "    }\n",
       "  })({\"config\": {\"view\": {\"continuousWidth\": 400, \"continuousHeight\": 300}}, \"data\": {\"name\": \"data-d26d33077fc303fe24c3669c52b4c673\"}, \"mark\": {\"type\": \"circle\", \"color\": \"#000000\"}, \"encoding\": {\"tooltip\": [{\"type\": \"quantitative\", \"field\": \"n\"}, {\"type\": \"quantitative\", \"field\": \"y/m\"}], \"x\": {\"type\": \"quantitative\", \"field\": \"n\"}, \"y\": {\"type\": \"quantitative\", \"field\": \"y/m\"}}, \"selection\": {\"selector001\": {\"type\": \"interval\", \"bind\": \"scales\", \"encodings\": [\"x\", \"y\"]}}, \"$schema\": \"https://vega.github.io/schema/vega-lite/v4.0.2.json\", \"datasets\": {\"data-d26d33077fc303fe24c3669c52b4c673\": [{\"n\": 2, \"y/m\": 0.021}, {\"n\": 3, \"y/m\": 0.032}, {\"n\": 4, \"y/m\": 0.043}, {\"n\": 5, \"y/m\": 0.0539}, {\"n\": 6, \"y/m\": 0.0646}, {\"n\": 7, \"y/m\": 0.0751}]}}, {\"mode\": \"vega-lite\"});\n",
       "</script>"
      ],
      "text/plain": [
       "alt.Chart(...)"
      ]
     },
     "execution_count": 3,
     "metadata": {},
     "output_type": "execute_result"
    }
   ],
   "source": [
    "pG(n,y,\"n\",\"y/m\")#pG=pointGraph,散点图"
   ]
  },
  {
   "cell_type": "code",
   "execution_count": 4,
   "metadata": {
    "scrolled": true
   },
   "outputs": [
    {
     "data": {
      "text/html": [
       "\n",
       "<div id=\"altair-viz-971058d0787a484783fdb4e201efac5c\"></div>\n",
       "<script type=\"text/javascript\">\n",
       "  (function(spec, embedOpt){\n",
       "    const outputDiv = document.getElementById(\"altair-viz-971058d0787a484783fdb4e201efac5c\");\n",
       "    const paths = {\n",
       "      \"vega\": \"https://cdn.jsdelivr.net/npm//vega@5?noext\",\n",
       "      \"vega-lib\": \"https://cdn.jsdelivr.net/npm//vega-lib?noext\",\n",
       "      \"vega-lite\": \"https://cdn.jsdelivr.net/npm//vega-lite@4.0.2?noext\",\n",
       "      \"vega-embed\": \"https://cdn.jsdelivr.net/npm//vega-embed@6?noext\",\n",
       "    };\n",
       "\n",
       "    function loadScript(lib) {\n",
       "      return new Promise(function(resolve, reject) {\n",
       "        var s = document.createElement('script');\n",
       "        s.src = paths[lib];\n",
       "        s.async = true;\n",
       "        s.onload = () => resolve(paths[lib]);\n",
       "        s.onerror = () => reject(`Error loading script: ${paths[lib]}`);\n",
       "        document.getElementsByTagName(\"head\")[0].appendChild(s);\n",
       "      });\n",
       "    }\n",
       "\n",
       "    function showError(err) {\n",
       "      outputDiv.innerHTML = `<div class=\"error\" style=\"color:red;\">${err}</div>`;\n",
       "      throw err;\n",
       "    }\n",
       "\n",
       "    function displayChart(vegaEmbed) {\n",
       "      vegaEmbed(outputDiv, spec, embedOpt)\n",
       "        .catch(err => showError(`Javascript Error: ${err.message}<br>This usually means there's a typo in your chart specification. See the javascript console for the full traceback.`));\n",
       "    }\n",
       "\n",
       "    if(typeof define === \"function\" && define.amd) {\n",
       "      requirejs.config({paths});\n",
       "      require([\"vega-embed\"], displayChart, err => showError(`Error loading script: ${err.message}`));\n",
       "    } else if (typeof vegaEmbed === \"function\") {\n",
       "      displayChart(vegaEmbed);\n",
       "    } else {\n",
       "      loadScript(\"vega\")\n",
       "        .then(() => loadScript(\"vega-lite\"))\n",
       "        .then(() => loadScript(\"vega-embed\"))\n",
       "        .catch(showError)\n",
       "        .then(() => displayChart(vegaEmbed));\n",
       "    }\n",
       "  })({\"config\": {\"view\": {\"continuousWidth\": 400, \"continuousHeight\": 300}}, \"data\": {\"name\": \"data-ad98d1a61b2ca62cb494c3bd3abf1ecc\"}, \"mark\": {\"type\": \"line\", \"color\": \"#66ccff\"}, \"encoding\": {\"tooltip\": [{\"type\": \"quantitative\", \"field\": \"n\"}, {\"type\": \"quantitative\", \"field\": \"y/m\"}], \"x\": {\"type\": \"quantitative\", \"field\": \"n\"}, \"y\": {\"type\": \"quantitative\", \"field\": \"y/m\"}}, \"selection\": {\"selector002\": {\"type\": \"interval\", \"bind\": \"scales\", \"encodings\": [\"x\", \"y\"]}}, \"$schema\": \"https://vega.github.io/schema/vega-lite/v4.0.2.json\", \"datasets\": {\"data-ad98d1a61b2ca62cb494c3bd3abf1ecc\": [{\"n\": 1, \"y/m\": 0.010346666666666678}, {\"n\": 8, \"y/m\": 0.08618666666666666}]}}, {\"mode\": \"vega-lite\"});\n",
       "</script>"
      ],
      "text/plain": [
       "alt.Chart(...)"
      ]
     },
     "execution_count": 4,
     "metadata": {},
     "output_type": "execute_result"
    }
   ],
   "source": [
    "lRG(n,y,\"n\",\"y/m\")#lRG=linearRegressionGraph,回归直线图"
   ]
  },
  {
   "cell_type": "code",
   "execution_count": 5,
   "metadata": {
    "scrolled": true
   },
   "outputs": [
    {
     "data": {
      "text/html": [
       "\n",
       "<div id=\"altair-viz-30a76fe789864f7992ed0a3ff938af12\"></div>\n",
       "<script type=\"text/javascript\">\n",
       "  (function(spec, embedOpt){\n",
       "    const outputDiv = document.getElementById(\"altair-viz-30a76fe789864f7992ed0a3ff938af12\");\n",
       "    const paths = {\n",
       "      \"vega\": \"https://cdn.jsdelivr.net/npm//vega@5?noext\",\n",
       "      \"vega-lib\": \"https://cdn.jsdelivr.net/npm//vega-lib?noext\",\n",
       "      \"vega-lite\": \"https://cdn.jsdelivr.net/npm//vega-lite@4.0.2?noext\",\n",
       "      \"vega-embed\": \"https://cdn.jsdelivr.net/npm//vega-embed@6?noext\",\n",
       "    };\n",
       "\n",
       "    function loadScript(lib) {\n",
       "      return new Promise(function(resolve, reject) {\n",
       "        var s = document.createElement('script');\n",
       "        s.src = paths[lib];\n",
       "        s.async = true;\n",
       "        s.onload = () => resolve(paths[lib]);\n",
       "        s.onerror = () => reject(`Error loading script: ${paths[lib]}`);\n",
       "        document.getElementsByTagName(\"head\")[0].appendChild(s);\n",
       "      });\n",
       "    }\n",
       "\n",
       "    function showError(err) {\n",
       "      outputDiv.innerHTML = `<div class=\"error\" style=\"color:red;\">${err}</div>`;\n",
       "      throw err;\n",
       "    }\n",
       "\n",
       "    function displayChart(vegaEmbed) {\n",
       "      vegaEmbed(outputDiv, spec, embedOpt)\n",
       "        .catch(err => showError(`Javascript Error: ${err.message}<br>This usually means there's a typo in your chart specification. See the javascript console for the full traceback.`));\n",
       "    }\n",
       "\n",
       "    if(typeof define === \"function\" && define.amd) {\n",
       "      requirejs.config({paths});\n",
       "      require([\"vega-embed\"], displayChart, err => showError(`Error loading script: ${err.message}`));\n",
       "    } else if (typeof vegaEmbed === \"function\") {\n",
       "      displayChart(vegaEmbed);\n",
       "    } else {\n",
       "      loadScript(\"vega\")\n",
       "        .then(() => loadScript(\"vega-lite\"))\n",
       "        .then(() => loadScript(\"vega-embed\"))\n",
       "        .catch(showError)\n",
       "        .then(() => displayChart(vegaEmbed));\n",
       "    }\n",
       "  })({\"config\": {\"view\": {\"continuousWidth\": 400, \"continuousHeight\": 300}}, \"layer\": [{\"data\": {\"name\": \"data-ad98d1a61b2ca62cb494c3bd3abf1ecc\"}, \"mark\": {\"type\": \"line\", \"color\": \"#66ccff\"}, \"encoding\": {\"tooltip\": [{\"type\": \"quantitative\", \"field\": \"n\"}, {\"type\": \"quantitative\", \"field\": \"y/m\"}], \"x\": {\"type\": \"quantitative\", \"field\": \"n\"}, \"y\": {\"type\": \"quantitative\", \"field\": \"y/m\"}}, \"selection\": {\"selector003\": {\"type\": \"interval\", \"bind\": \"scales\", \"encodings\": [\"x\", \"y\"]}}}, {\"data\": {\"name\": \"data-d26d33077fc303fe24c3669c52b4c673\"}, \"mark\": {\"type\": \"circle\", \"color\": \"#000000\"}, \"encoding\": {\"tooltip\": [{\"type\": \"quantitative\", \"field\": \"n\"}, {\"type\": \"quantitative\", \"field\": \"y/m\"}], \"x\": {\"type\": \"quantitative\", \"field\": \"n\"}, \"y\": {\"type\": \"quantitative\", \"field\": \"y/m\"}}, \"selection\": {\"selector004\": {\"type\": \"interval\", \"bind\": \"scales\", \"encodings\": [\"x\", \"y\"]}}}], \"$schema\": \"https://vega.github.io/schema/vega-lite/v4.0.2.json\", \"datasets\": {\"data-ad98d1a61b2ca62cb494c3bd3abf1ecc\": [{\"n\": 1, \"y/m\": 0.010346666666666678}, {\"n\": 8, \"y/m\": 0.08618666666666666}], \"data-d26d33077fc303fe24c3669c52b4c673\": [{\"n\": 2, \"y/m\": 0.021}, {\"n\": 3, \"y/m\": 0.032}, {\"n\": 4, \"y/m\": 0.043}, {\"n\": 5, \"y/m\": 0.0539}, {\"n\": 6, \"y/m\": 0.0646}, {\"n\": 7, \"y/m\": 0.0751}]}}, {\"mode\": \"vega-lite\"});\n",
       "</script>"
      ],
      "text/plain": [
       "alt.LayerChart(...)"
      ]
     },
     "execution_count": 5,
     "metadata": {},
     "output_type": "execute_result"
    }
   ],
   "source": [
    "lRG(n,y,\"n\",\"y/m\") + pG(n,y,\"n\",\"y/m\")"
   ]
  },
  {
   "cell_type": "code",
   "execution_count": 6,
   "metadata": {},
   "outputs": [
    {
     "data": {
      "text/html": [
       "\n",
       "<div id=\"altair-viz-74355e3bb15245f48763e18e4368c04f\"></div>\n",
       "<script type=\"text/javascript\">\n",
       "  (function(spec, embedOpt){\n",
       "    const outputDiv = document.getElementById(\"altair-viz-74355e3bb15245f48763e18e4368c04f\");\n",
       "    const paths = {\n",
       "      \"vega\": \"https://cdn.jsdelivr.net/npm//vega@5?noext\",\n",
       "      \"vega-lib\": \"https://cdn.jsdelivr.net/npm//vega-lib?noext\",\n",
       "      \"vega-lite\": \"https://cdn.jsdelivr.net/npm//vega-lite@4.0.2?noext\",\n",
       "      \"vega-embed\": \"https://cdn.jsdelivr.net/npm//vega-embed@6?noext\",\n",
       "    };\n",
       "\n",
       "    function loadScript(lib) {\n",
       "      return new Promise(function(resolve, reject) {\n",
       "        var s = document.createElement('script');\n",
       "        s.src = paths[lib];\n",
       "        s.async = true;\n",
       "        s.onload = () => resolve(paths[lib]);\n",
       "        s.onerror = () => reject(`Error loading script: ${paths[lib]}`);\n",
       "        document.getElementsByTagName(\"head\")[0].appendChild(s);\n",
       "      });\n",
       "    }\n",
       "\n",
       "    function showError(err) {\n",
       "      outputDiv.innerHTML = `<div class=\"error\" style=\"color:red;\">${err}</div>`;\n",
       "      throw err;\n",
       "    }\n",
       "\n",
       "    function displayChart(vegaEmbed) {\n",
       "      vegaEmbed(outputDiv, spec, embedOpt)\n",
       "        .catch(err => showError(`Javascript Error: ${err.message}<br>This usually means there's a typo in your chart specification. See the javascript console for the full traceback.`));\n",
       "    }\n",
       "\n",
       "    if(typeof define === \"function\" && define.amd) {\n",
       "      requirejs.config({paths});\n",
       "      require([\"vega-embed\"], displayChart, err => showError(`Error loading script: ${err.message}`));\n",
       "    } else if (typeof vegaEmbed === \"function\") {\n",
       "      displayChart(vegaEmbed);\n",
       "    } else {\n",
       "      loadScript(\"vega\")\n",
       "        .then(() => loadScript(\"vega-lite\"))\n",
       "        .then(() => loadScript(\"vega-embed\"))\n",
       "        .catch(showError)\n",
       "        .then(() => displayChart(vegaEmbed));\n",
       "    }\n",
       "  })({\"config\": {\"view\": {\"continuousWidth\": 400, \"continuousHeight\": 300}}, \"layer\": [{\"data\": {\"name\": \"data-1b380fe08089b8e2b0b5d0359e872cb3\"}, \"mark\": {\"type\": \"line\", \"color\": \"#f0a1a8\"}, \"encoding\": {\"tooltip\": [{\"type\": \"quantitative\", \"field\": \"B/T\"}, {\"type\": \"quantitative\", \"field\": \"\\u0394R/R\"}], \"x\": {\"type\": \"quantitative\", \"field\": \"B/T\"}, \"y\": {\"type\": \"quantitative\", \"field\": \"\\u0394R/R\"}}, \"selection\": {\"selector005\": {\"type\": \"interval\", \"bind\": \"scales\", \"encodings\": [\"x\", \"y\"]}}}, {\"data\": {\"name\": \"data-1b380fe08089b8e2b0b5d0359e872cb3\"}, \"mark\": {\"type\": \"circle\", \"color\": \"#000000\"}, \"encoding\": {\"tooltip\": [{\"type\": \"quantitative\", \"field\": \"B/T\"}, {\"type\": \"quantitative\", \"field\": \"\\u0394R/R\"}], \"x\": {\"type\": \"quantitative\", \"field\": \"B/T\"}, \"y\": {\"type\": \"quantitative\", \"field\": \"\\u0394R/R\"}}, \"selection\": {\"selector006\": {\"type\": \"interval\", \"bind\": \"scales\", \"encodings\": [\"x\", \"y\"]}}}], \"$schema\": \"https://vega.github.io/schema/vega-lite/v4.0.2.json\", \"datasets\": {\"data-1b380fe08089b8e2b0b5d0359e872cb3\": [{\"B/T\": 0.0, \"\\u0394R/R\": 0.0}, {\"B/T\": 0.0125, \"\\u0394R/R\": 0.004347}, {\"B/T\": 0.025, \"\\u0394R/R\": 0.01747}, {\"B/T\": 0.0375, \"\\u0394R/R\": 0.053079}, {\"B/T\": 0.05, \"\\u0394R/R\": 0.089606}, {\"B/T\": 0.055, \"\\u0394R/R\": 0.127088}, {\"B/T\": 0.0625, \"\\u0394R/R\": 0.170444}, {\"B/T\": 0.0675, \"\\u0394R/R\": 0.220161}, {\"B/T\": 0.075, \"\\u0394R/R\": 0.240521}, {\"B/T\": 0.0995, \"\\u0394R/R\": 0.287356}, {\"B/T\": 0.125, \"\\u0394R/R\": 0.319396}, {\"B/T\": 0.15, \"\\u0394R/R\": 0.363172}, {\"B/T\": 0.175, \"\\u0394R/R\": 0.413924}, {\"B/T\": 0.2, \"\\u0394R/R\": 0.442834}, {\"B/T\": 0.225, \"\\u0394R/R\": 0.466342}, {\"B/T\": 0.25, \"\\u0394R/R\": 0.496214}]}}, {\"mode\": \"vega-lite\"});\n",
       "</script>"
      ],
      "text/plain": [
       "alt.LayerChart(...)"
      ]
     },
     "execution_count": 6,
     "metadata": {},
     "output_type": "execute_result"
    }
   ],
   "source": [
    "B = [0,0.0125,0.0250,0.0375,0.0500,0.0550,0.0625,0.0675,0.0750,0.0995,0.1250,0.1500,0.1750,0.2000,0.2250,0.2500]\n",
    "DR = [0,0.004347,0.017470,0.053079,0.089606,0.127088,0.170444,0.220161,0.240521,0.287356,0.319396,0.363172,0.413924,0.442834,0.466342,0.496214]\n",
    "\n",
    "lG(B,DR,Xname=\"B/T\",Yname=\"ΔR/R\",color=\"#f0a1a8\")+ pG(B,DR,Xname=\"B/T\",Yname=\"ΔR/R\") #lG=lineGraph,折线图"
   ]
  },
  {
   "cell_type": "code",
   "execution_count": 7,
   "metadata": {},
   "outputs": [
    {
     "data": {
      "text/html": [
       "\n",
       "<div id=\"altair-viz-6bc30df1322d4258a78aab096a450f9b\"></div>\n",
       "<script type=\"text/javascript\">\n",
       "  (function(spec, embedOpt){\n",
       "    const outputDiv = document.getElementById(\"altair-viz-6bc30df1322d4258a78aab096a450f9b\");\n",
       "    const paths = {\n",
       "      \"vega\": \"https://cdn.jsdelivr.net/npm//vega@5?noext\",\n",
       "      \"vega-lib\": \"https://cdn.jsdelivr.net/npm//vega-lib?noext\",\n",
       "      \"vega-lite\": \"https://cdn.jsdelivr.net/npm//vega-lite@4.0.2?noext\",\n",
       "      \"vega-embed\": \"https://cdn.jsdelivr.net/npm//vega-embed@6?noext\",\n",
       "    };\n",
       "\n",
       "    function loadScript(lib) {\n",
       "      return new Promise(function(resolve, reject) {\n",
       "        var s = document.createElement('script');\n",
       "        s.src = paths[lib];\n",
       "        s.async = true;\n",
       "        s.onload = () => resolve(paths[lib]);\n",
       "        s.onerror = () => reject(`Error loading script: ${paths[lib]}`);\n",
       "        document.getElementsByTagName(\"head\")[0].appendChild(s);\n",
       "      });\n",
       "    }\n",
       "\n",
       "    function showError(err) {\n",
       "      outputDiv.innerHTML = `<div class=\"error\" style=\"color:red;\">${err}</div>`;\n",
       "      throw err;\n",
       "    }\n",
       "\n",
       "    function displayChart(vegaEmbed) {\n",
       "      vegaEmbed(outputDiv, spec, embedOpt)\n",
       "        .catch(err => showError(`Javascript Error: ${err.message}<br>This usually means there's a typo in your chart specification. See the javascript console for the full traceback.`));\n",
       "    }\n",
       "\n",
       "    if(typeof define === \"function\" && define.amd) {\n",
       "      requirejs.config({paths});\n",
       "      require([\"vega-embed\"], displayChart, err => showError(`Error loading script: ${err.message}`));\n",
       "    } else if (typeof vegaEmbed === \"function\") {\n",
       "      displayChart(vegaEmbed);\n",
       "    } else {\n",
       "      loadScript(\"vega\")\n",
       "        .then(() => loadScript(\"vega-lite\"))\n",
       "        .then(() => loadScript(\"vega-embed\"))\n",
       "        .catch(showError)\n",
       "        .then(() => displayChart(vegaEmbed));\n",
       "    }\n",
       "  })({\"config\": {\"view\": {\"continuousWidth\": 400, \"continuousHeight\": 300}}, \"layer\": [{\"data\": {\"name\": \"data-331e8c64e044fb88b10be604efe19762\"}, \"mark\": {\"type\": \"line\", \"color\": \"#00ff00\"}, \"encoding\": {\"tooltip\": [{\"type\": \"quantitative\", \"field\": \"B/T\"}, {\"type\": \"quantitative\", \"field\": \"\\u0394R/R\"}], \"x\": {\"type\": \"quantitative\", \"field\": \"B/T\"}, \"y\": {\"type\": \"quantitative\", \"field\": \"\\u0394R/R\"}}, \"selection\": {\"selector007\": {\"type\": \"interval\", \"bind\": \"scales\", \"encodings\": [\"x\", \"y\"]}}}, {\"data\": {\"name\": \"data-1b380fe08089b8e2b0b5d0359e872cb3\"}, \"mark\": {\"type\": \"circle\", \"color\": \"#000000\"}, \"encoding\": {\"tooltip\": [{\"type\": \"quantitative\", \"field\": \"B/T\"}, {\"type\": \"quantitative\", \"field\": \"\\u0394R/R\"}], \"x\": {\"type\": \"quantitative\", \"field\": \"B/T\"}, \"y\": {\"type\": \"quantitative\", \"field\": \"\\u0394R/R\"}}, \"selection\": {\"selector008\": {\"type\": \"interval\", \"bind\": \"scales\", \"encodings\": [\"x\", \"y\"]}}}], \"$schema\": \"https://vega.github.io/schema/vega-lite/v4.0.2.json\", \"datasets\": {\"data-331e8c64e044fb88b10be604efe19762\": [{\"B/T\": 0.0, \"\\u0394R/R\": 0.0005039714285713917}, {\"B/T\": 0.0125, \"\\u0394R/R\": 0.002331114285714281}, {\"B/T\": 0.025, \"\\u0394R/R\": 0.020493828571428577}, {\"B/T\": 0.0375, \"\\u0394R/R\": 0.051227142857142874}, {\"B/T\": 0.05, \"\\u0394R/R\": 0.08918754285714289}, {\"B/T\": 0.055, \"\\u0394R/R\": 0.12746788571428574}, {\"B/T\": 0.0625, \"\\u0394R/R\": 0.1735472857142858}, {\"B/T\": 0.0675, \"\\u0394R/R\": 0.2123138571428572}, {\"B/T\": 0.075, \"\\u0394R/R\": 0.24884402857142865}, {\"B/T\": 0.0995, \"\\u0394R/R\": 0.2815444857142858}, {\"B/T\": 0.125, \"\\u0394R/R\": 0.3220780857142858}, {\"B/T\": 0.15, \"\\u0394R/R\": 0.3652341142857144}, {\"B/T\": 0.175, \"\\u0394R/R\": 0.410044742857143}, {\"B/T\": 0.2, \"\\u0394R/R\": 0.44323462857142876}, {\"B/T\": 0.225, \"\\u0394R/R\": 0.46607491428571446}, {\"B/T\": 0.25, \"\\u0394R/R\": 0.49628077142857163}], \"data-1b380fe08089b8e2b0b5d0359e872cb3\": [{\"B/T\": 0.0, \"\\u0394R/R\": 0.0}, {\"B/T\": 0.0125, \"\\u0394R/R\": 0.004347}, {\"B/T\": 0.025, \"\\u0394R/R\": 0.01747}, {\"B/T\": 0.0375, \"\\u0394R/R\": 0.053079}, {\"B/T\": 0.05, \"\\u0394R/R\": 0.089606}, {\"B/T\": 0.055, \"\\u0394R/R\": 0.127088}, {\"B/T\": 0.0625, \"\\u0394R/R\": 0.170444}, {\"B/T\": 0.0675, \"\\u0394R/R\": 0.220161}, {\"B/T\": 0.075, \"\\u0394R/R\": 0.240521}, {\"B/T\": 0.0995, \"\\u0394R/R\": 0.287356}, {\"B/T\": 0.125, \"\\u0394R/R\": 0.319396}, {\"B/T\": 0.15, \"\\u0394R/R\": 0.363172}, {\"B/T\": 0.175, \"\\u0394R/R\": 0.413924}, {\"B/T\": 0.2, \"\\u0394R/R\": 0.442834}, {\"B/T\": 0.225, \"\\u0394R/R\": 0.466342}, {\"B/T\": 0.25, \"\\u0394R/R\": 0.496214}]}}, {\"mode\": \"vega-lite\"});\n",
       "</script>"
      ],
      "text/plain": [
       "alt.LayerChart(...)"
      ]
     },
     "execution_count": 7,
     "metadata": {},
     "output_type": "execute_result"
    }
   ],
   "source": [
    "cG(B,DR,Xname=\"B/T\",Yname=\"ΔR/R\",color=\"#00ff00\",polynomialOrder=3)+pG(B,DR,Xname=\"B/T\",Yname=\"ΔR/R\") #cG=curveGraph, 曲线图"
   ]
  },
  {
   "cell_type": "code",
   "execution_count": null,
   "metadata": {},
   "outputs": [],
   "source": []
  }
 ],
 "metadata": {
  "kernelspec": {
   "display_name": "Python 3",
   "language": "python",
   "name": "python3"
  },
  "language_info": {
   "codemirror_mode": {
    "name": "ipython",
    "version": 3
   },
   "file_extension": ".py",
   "mimetype": "text/x-python",
   "name": "python",
   "nbconvert_exporter": "python",
   "pygments_lexer": "ipython3",
   "version": "3.7.3"
  }
 },
 "nbformat": 4,
 "nbformat_minor": 2
}
